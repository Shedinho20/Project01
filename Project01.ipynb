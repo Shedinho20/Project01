{
 "cells": [
  {
   "cell_type": "markdown",
   "metadata": {},
   "source": [
    "# Table of Contents\n",
    "\n",
    "- [1. Project Title]()\n",
    "- [2. Library import and data loading](#2-Library-import-and-data-loading)\n",
    "  - [2.1 Library imports](##Library-import)\n",
    "  - [2.2 Loading uncleand dataset](##Loading-uncleaned-data)\n",
    "- [3. Data Analysis,Preparation and Wrangling](#3-Data-Analysis-Preparation-and-Wrangling)\n",
    "  - [3.1 Handling missing rows](##Handling-missing-rows)\n",
    "  - [3.2 Handling the currency symbols and comma format](##Handling-the-currency-symbols-and-comma-format)\n",
    "  - [3.3 Handling non-valid column names](##Handling-non_valid-column-names)\n",
    "  - [3.4 Handling missing values in columns: fuel_type](##Handling-missing-values-in-columns:-fuel_type)\n",
    "  - [3.5 Handling missing values and comma format in columns: mileage](##Handling-missing-values-and-comma-format-in-columns:-mileage)\n",
    "  - [3.6 Handling missing values and different value standard in columns: engine_size](##Handling-missing-values-and-different-value-standard-in-columns:-engine_size)\n",
    "  - [3.7 Handling wrong data type: year](##Handling-wrong-data-type:-year)\n",
    "  - [3.8 Handling unneeded columns](##Handling-unneeded-columns)\n",
    "  - [3.9 Handling categorical data](##Handling-categorical-data)\n",
    "  - [3.10 Saving the cleaned data into csv](##Saving-the-cleaned-data-into-csv)"
   ]
  },
  {
   "cell_type": "markdown",
   "metadata": {},
   "source": [
    "# Predicting resale value of cars\n",
    "## Dataset: UK’s craiglist car\n",
    "\n",
    "### Group Members\n",
    "- Shedrach Ezenwali  300377414"
   ]
  },
  {
   "cell_type": "markdown",
   "metadata": {},
   "source": [
    "____"
   ]
  },
  {
   "cell_type": "markdown",
   "metadata": {},
   "source": [
    "# 2-Library-import-and-data-loading"
   ]
  },
  {
   "cell_type": "markdown",
   "metadata": {},
   "source": [
    "____"
   ]
  },
  {
   "cell_type": "markdown",
   "metadata": {},
   "source": [
    "## Library-import"
   ]
  },
  {
   "cell_type": "code",
   "execution_count": 645,
   "metadata": {},
   "outputs": [],
   "source": [
    "import pandas as pd\n",
    "import matplotlib.pyplot as plt\n",
    "import seaborn as sns\n",
    "import numpy as np\n",
    "from sklearn.linear_model import LinearRegression"
   ]
  },
  {
   "cell_type": "markdown",
   "metadata": {},
   "source": [
    "## Loading-uncleaned-data"
   ]
  },
  {
   "cell_type": "code",
   "execution_count": 646,
   "metadata": {},
   "outputs": [],
   "source": [
    "df = pd.read_csv(\"./data/unclean_data.csv\")"
   ]
  },
  {
   "cell_type": "markdown",
   "metadata": {},
   "source": [
    "____"
   ]
  },
  {
   "cell_type": "markdown",
   "metadata": {},
   "source": [
    "# 3-Data-Analysis-Preparation-and-Wrangling"
   ]
  },
  {
   "cell_type": "markdown",
   "metadata": {},
   "source": [
    "____"
   ]
  },
  {
   "cell_type": "code",
   "execution_count": 647,
   "metadata": {},
   "outputs": [
    {
     "data": {
      "text/html": [
       "<div>\n",
       "<style scoped>\n",
       "    .dataframe tbody tr th:only-of-type {\n",
       "        vertical-align: middle;\n",
       "    }\n",
       "\n",
       "    .dataframe tbody tr th {\n",
       "        vertical-align: top;\n",
       "    }\n",
       "\n",
       "    .dataframe thead th {\n",
       "        text-align: right;\n",
       "    }\n",
       "</style>\n",
       "<table border=\"1\" class=\"dataframe\">\n",
       "  <thead>\n",
       "    <tr style=\"text-align: right;\">\n",
       "      <th></th>\n",
       "      <th>model</th>\n",
       "      <th>year</th>\n",
       "      <th>price</th>\n",
       "      <th>transmission</th>\n",
       "      <th>mileage</th>\n",
       "      <th>fuel type</th>\n",
       "      <th>engine size</th>\n",
       "      <th>mileage2</th>\n",
       "      <th>fuel type2</th>\n",
       "      <th>engine size2</th>\n",
       "      <th>reference</th>\n",
       "    </tr>\n",
       "  </thead>\n",
       "  <tbody>\n",
       "    <tr>\n",
       "      <th>0</th>\n",
       "      <td>C Class</td>\n",
       "      <td>2020.0</td>\n",
       "      <td>£30,495</td>\n",
       "      <td>Automatic</td>\n",
       "      <td>NaN</td>\n",
       "      <td>Diesel</td>\n",
       "      <td>2</td>\n",
       "      <td>1,200</td>\n",
       "      <td>NaN</td>\n",
       "      <td>NaN</td>\n",
       "      <td>/ad/25017331</td>\n",
       "    </tr>\n",
       "    <tr>\n",
       "      <th>1</th>\n",
       "      <td>C Class</td>\n",
       "      <td>2020.0</td>\n",
       "      <td>£29,989</td>\n",
       "      <td>Automatic</td>\n",
       "      <td>NaN</td>\n",
       "      <td>Petrol</td>\n",
       "      <td>1.5</td>\n",
       "      <td>1,000</td>\n",
       "      <td>NaN</td>\n",
       "      <td>NaN</td>\n",
       "      <td>/ad/25043746</td>\n",
       "    </tr>\n",
       "    <tr>\n",
       "      <th>2</th>\n",
       "      <td>C Class</td>\n",
       "      <td>2020.0</td>\n",
       "      <td>£37,899</td>\n",
       "      <td>Automatic</td>\n",
       "      <td>NaN</td>\n",
       "      <td>Diesel</td>\n",
       "      <td>2</td>\n",
       "      <td>500</td>\n",
       "      <td>NaN</td>\n",
       "      <td>NaN</td>\n",
       "      <td>/ad/25142894</td>\n",
       "    </tr>\n",
       "    <tr>\n",
       "      <th>3</th>\n",
       "      <td>C Class</td>\n",
       "      <td>2019.0</td>\n",
       "      <td>£30,399</td>\n",
       "      <td>Automatic</td>\n",
       "      <td>NaN</td>\n",
       "      <td>Diesel</td>\n",
       "      <td>2</td>\n",
       "      <td>5,000</td>\n",
       "      <td>NaN</td>\n",
       "      <td>NaN</td>\n",
       "      <td>/ad/24942816</td>\n",
       "    </tr>\n",
       "    <tr>\n",
       "      <th>4</th>\n",
       "      <td>C Class</td>\n",
       "      <td>2019.0</td>\n",
       "      <td>£29,899</td>\n",
       "      <td>Automatic</td>\n",
       "      <td>NaN</td>\n",
       "      <td>Diesel</td>\n",
       "      <td>2</td>\n",
       "      <td>4,500</td>\n",
       "      <td>NaN</td>\n",
       "      <td>NaN</td>\n",
       "      <td>/ad/24913660</td>\n",
       "    </tr>\n",
       "  </tbody>\n",
       "</table>\n",
       "</div>"
      ],
      "text/plain": [
       "      model    year     price transmission mileage fuel type engine size  \\\n",
       "0   C Class  2020.0   £30,495    Automatic     NaN    Diesel           2   \n",
       "1   C Class  2020.0   £29,989    Automatic     NaN    Petrol         1.5   \n",
       "2   C Class  2020.0   £37,899    Automatic     NaN    Diesel           2   \n",
       "3   C Class  2019.0   £30,399    Automatic     NaN    Diesel           2   \n",
       "4   C Class  2019.0   £29,899    Automatic     NaN    Diesel           2   \n",
       "\n",
       "  mileage2 fuel type2 engine size2     reference  \n",
       "0    1,200        NaN          NaN  /ad/25017331  \n",
       "1    1,000        NaN          NaN  /ad/25043746  \n",
       "2      500        NaN          NaN  /ad/25142894  \n",
       "3    5,000        NaN          NaN  /ad/24942816  \n",
       "4    4,500        NaN          NaN  /ad/24913660  "
      ]
     },
     "execution_count": 647,
     "metadata": {},
     "output_type": "execute_result"
    }
   ],
   "source": [
    "## A look of the data set\n",
    "df.head()"
   ]
  },
  {
   "cell_type": "code",
   "execution_count": 648,
   "metadata": {},
   "outputs": [
    {
     "name": "stdout",
     "output_type": "stream",
     "text": [
      "We have 4006 rows and 11 columns in the data set\n"
     ]
    }
   ],
   "source": [
    "## Let's get general information about the data, the shape and also the data type\n",
    "\n",
    "def get_data_description(df)->None:\n",
    "    '''Take a dataframe and prints out a consise \n",
    "    description based on the data shape'''\n",
    "    rows,cols = df.shape\n",
    "\n",
    "    print(f'We have {rows} rows and {cols} columns in the data set')\n",
    "\n",
    "get_data_description(df)\n",
    "\n"
   ]
  },
  {
   "cell_type": "code",
   "execution_count": 649,
   "metadata": {},
   "outputs": [
    {
     "name": "stdout",
     "output_type": "stream",
     "text": [
      "<class 'pandas.core.frame.DataFrame'>\n",
      "RangeIndex: 4006 entries, 0 to 4005\n",
      "Data columns (total 11 columns):\n",
      " #   Column        Non-Null Count  Dtype  \n",
      "---  ------        --------------  -----  \n",
      " 0   model         3907 non-null   object \n",
      " 1   year          3904 non-null   float64\n",
      " 2   price         3907 non-null   object \n",
      " 3   transmission  3907 non-null   object \n",
      " 4   mileage       3808 non-null   object \n",
      " 5   fuel type     1329 non-null   object \n",
      " 6   engine size   3842 non-null   object \n",
      " 7   mileage2      3890 non-null   object \n",
      " 8   fuel type2    3808 non-null   object \n",
      " 9   engine size2  3808 non-null   object \n",
      " 10  reference     3907 non-null   object \n",
      "dtypes: float64(1), object(10)\n",
      "memory usage: 344.4+ KB\n"
     ]
    }
   ],
   "source": [
    "## Checking of the data type of each column\n",
    "\n",
    "df.info()"
   ]
  },
  {
   "cell_type": "markdown",
   "metadata": {},
   "source": [
    "From first look, some data type are wrong. \n",
    "<div><ins>Some few points to note</ins></div>\n",
    "\n",
    "- for example the year is a floating point number which logically year can only be an integer.\n",
    "- Price appears as a string probably due to the currency symbol\n",
    "\n",
    "Finally there are some NaN values in the data set"
   ]
  },
  {
   "cell_type": "code",
   "execution_count": 650,
   "metadata": {},
   "outputs": [
    {
     "name": "stdout",
     "output_type": "stream",
     "text": [
      "(4006, 11)\n",
      "model: 2%\n",
      "year: 3%\n",
      "price: 2%\n",
      "transmission: 2%\n",
      "mileage: 5%\n",
      "fuel type: 67%\n",
      "engine size: 4%\n",
      "mileage2: 3%\n",
      "fuel type2: 5%\n",
      "engine size2: 5%\n",
      "reference: 2%\n"
     ]
    }
   ],
   "source": [
    "## Getting the percentage of missing values in each column\n",
    "\n",
    "def check_cols_with_null(df):\n",
    "    '''Gets  dataframe and prints out percentage of missing values in each column'''\n",
    "    print(    df.shape)\n",
    "    for col in df.columns:\n",
    "        print(f'{col}: {format((df[col].isnull().sum()/df.shape[0])*100,\".0f\")}%')\n",
    "\n",
    "check_cols_with_null(df)"
   ]
  },
  {
   "cell_type": "markdown",
   "metadata": {},
   "source": [
    "Fuel type has the highest missing value in the data set. This NaN values will be handled appropriately as we progress"
   ]
  },
  {
   "cell_type": "markdown",
   "metadata": {},
   "source": [
    "## Handling-missing-rows"
   ]
  },
  {
   "cell_type": "code",
   "execution_count": 651,
   "metadata": {},
   "outputs": [],
   "source": [
    "## Drop rows that have all columns as nan\n",
    "df.dropna(inplace=True,how=\"all\")"
   ]
  },
  {
   "cell_type": "code",
   "execution_count": 652,
   "metadata": {},
   "outputs": [],
   "source": [
    "## Resetting row index\n",
    "df.reset_index(inplace=True,drop=True)"
   ]
  },
  {
   "cell_type": "code",
   "execution_count": 653,
   "metadata": {},
   "outputs": [
    {
     "name": "stdout",
     "output_type": "stream",
     "text": [
      "We have 3907 rows and 11 columns in the data set\n"
     ]
    }
   ],
   "source": [
    "get_data_description(df)"
   ]
  },
  {
   "cell_type": "markdown",
   "metadata": {},
   "source": [
    "## Handling-the-currency-symbols-and-comma-format"
   ]
  },
  {
   "cell_type": "code",
   "execution_count": 654,
   "metadata": {},
   "outputs": [
    {
     "data": {
      "text/plain": [
       "0     £30,495\n",
       "1     £29,989\n",
       "2     £37,899\n",
       "3     £30,399\n",
       "4     £29,899\n",
       "Name: price, dtype: object"
      ]
     },
     "execution_count": 654,
     "metadata": {},
     "output_type": "execute_result"
    }
   ],
   "source": [
    "## Current price format\n",
    "df.price.head()"
   ]
  },
  {
   "cell_type": "code",
   "execution_count": 655,
   "metadata": {},
   "outputs": [],
   "source": [
    "df.price = df.price.str.replace('£|,',\"\",regex=True)"
   ]
  },
  {
   "cell_type": "code",
   "execution_count": 656,
   "metadata": {},
   "outputs": [
    {
     "data": {
      "text/plain": [
       "0     30495\n",
       "1     29989\n",
       "2     37899\n",
       "3     30399\n",
       "4     29899\n",
       "Name: price, dtype: object"
      ]
     },
     "execution_count": 656,
     "metadata": {},
     "output_type": "execute_result"
    }
   ],
   "source": [
    "## Formatted price column\n",
    "df.price.head()"
   ]
  },
  {
   "cell_type": "markdown",
   "metadata": {},
   "source": [
    "## Handling-non_valid-column-names"
   ]
  },
  {
   "cell_type": "code",
   "execution_count": 657,
   "metadata": {},
   "outputs": [],
   "source": [
    "#columns to rename and their corresponding new names\n",
    "\n",
    "columns_map = {\n",
    "    \"fuel type\":\"fuel_type\",\n",
    "    \"fuel type2\":\"fuel_type2\",\n",
    "    \"engine size\":\"engine_size\",\n",
    "    \"engine size2\":\"engine_size2\"\n",
    "}\n",
    "\n",
    "df.rename(columns=columns_map,inplace = True)"
   ]
  },
  {
   "cell_type": "code",
   "execution_count": 658,
   "metadata": {},
   "outputs": [
    {
     "data": {
      "text/html": [
       "<div>\n",
       "<style scoped>\n",
       "    .dataframe tbody tr th:only-of-type {\n",
       "        vertical-align: middle;\n",
       "    }\n",
       "\n",
       "    .dataframe tbody tr th {\n",
       "        vertical-align: top;\n",
       "    }\n",
       "\n",
       "    .dataframe thead th {\n",
       "        text-align: right;\n",
       "    }\n",
       "</style>\n",
       "<table border=\"1\" class=\"dataframe\">\n",
       "  <thead>\n",
       "    <tr style=\"text-align: right;\">\n",
       "      <th></th>\n",
       "      <th>model</th>\n",
       "      <th>year</th>\n",
       "      <th>price</th>\n",
       "      <th>transmission</th>\n",
       "      <th>mileage</th>\n",
       "      <th>fuel_type</th>\n",
       "      <th>engine_size</th>\n",
       "      <th>mileage2</th>\n",
       "      <th>fuel_type2</th>\n",
       "      <th>engine_size2</th>\n",
       "      <th>reference</th>\n",
       "    </tr>\n",
       "  </thead>\n",
       "  <tbody>\n",
       "    <tr>\n",
       "      <th>0</th>\n",
       "      <td>C Class</td>\n",
       "      <td>2020.0</td>\n",
       "      <td>30495</td>\n",
       "      <td>Automatic</td>\n",
       "      <td>NaN</td>\n",
       "      <td>Diesel</td>\n",
       "      <td>2</td>\n",
       "      <td>1,200</td>\n",
       "      <td>NaN</td>\n",
       "      <td>NaN</td>\n",
       "      <td>/ad/25017331</td>\n",
       "    </tr>\n",
       "  </tbody>\n",
       "</table>\n",
       "</div>"
      ],
      "text/plain": [
       "      model    year   price transmission mileage fuel_type engine_size  \\\n",
       "0   C Class  2020.0   30495    Automatic     NaN    Diesel           2   \n",
       "\n",
       "  mileage2 fuel_type2 engine_size2     reference  \n",
       "0    1,200        NaN          NaN  /ad/25017331  "
      ]
     },
     "execution_count": 658,
     "metadata": {},
     "output_type": "execute_result"
    }
   ],
   "source": [
    "df.head(1)"
   ]
  },
  {
   "cell_type": "markdown",
   "metadata": {},
   "source": [
    "## Handling-missing-values-in-columns:-fuel_type"
   ]
  },
  {
   "cell_type": "code",
   "execution_count": 659,
   "metadata": {},
   "outputs": [
    {
     "name": "stdout",
     "output_type": "stream",
     "text": [
      "(3907, 2)\n",
      "fuel_type: 66%\n",
      "fuel_type2: 3%\n"
     ]
    }
   ],
   "source": [
    "#initially we noticed that there was a lot of missing values in the 'fuel column' see below for percentages of missing values\n",
    "\n",
    "check_cols_with_null(df[[\"fuel_type\",\"fuel_type2\"]])"
   ]
  },
  {
   "cell_type": "markdown",
   "metadata": {},
   "source": [
    "About 66% of the values in the fuel_type column is missing, at this point we can decide to drop it, however before we drop the column we need to it values to fill the fuel_types column with reduce it from 3% or possibly drop it to 0%"
   ]
  },
  {
   "cell_type": "code",
   "execution_count": 660,
   "metadata": {},
   "outputs": [],
   "source": [
    "df.fuel_type2.fillna(df.fuel_type,inplace=True)"
   ]
  },
  {
   "cell_type": "code",
   "execution_count": 661,
   "metadata": {},
   "outputs": [
    {
     "data": {
      "text/plain": [
       "0"
      ]
     },
     "execution_count": 661,
     "metadata": {},
     "output_type": "execute_result"
    }
   ],
   "source": [
    "df.fuel_type2.isna().sum()"
   ]
  },
  {
   "cell_type": "code",
   "execution_count": 662,
   "metadata": {},
   "outputs": [
    {
     "data": {
      "text/html": [
       "<div>\n",
       "<style scoped>\n",
       "    .dataframe tbody tr th:only-of-type {\n",
       "        vertical-align: middle;\n",
       "    }\n",
       "\n",
       "    .dataframe tbody tr th {\n",
       "        vertical-align: top;\n",
       "    }\n",
       "\n",
       "    .dataframe thead th {\n",
       "        text-align: right;\n",
       "    }\n",
       "</style>\n",
       "<table border=\"1\" class=\"dataframe\">\n",
       "  <thead>\n",
       "    <tr style=\"text-align: right;\">\n",
       "      <th></th>\n",
       "      <th>model</th>\n",
       "      <th>year</th>\n",
       "      <th>price</th>\n",
       "      <th>transmission</th>\n",
       "      <th>mileage</th>\n",
       "      <th>engine_size</th>\n",
       "      <th>mileage2</th>\n",
       "      <th>fuel_type</th>\n",
       "      <th>engine_size2</th>\n",
       "      <th>reference</th>\n",
       "    </tr>\n",
       "  </thead>\n",
       "  <tbody>\n",
       "    <tr>\n",
       "      <th>0</th>\n",
       "      <td>C Class</td>\n",
       "      <td>2020.0</td>\n",
       "      <td>30495</td>\n",
       "      <td>Automatic</td>\n",
       "      <td>NaN</td>\n",
       "      <td>2</td>\n",
       "      <td>1,200</td>\n",
       "      <td>Diesel</td>\n",
       "      <td>NaN</td>\n",
       "      <td>/ad/25017331</td>\n",
       "    </tr>\n",
       "  </tbody>\n",
       "</table>\n",
       "</div>"
      ],
      "text/plain": [
       "      model    year   price transmission mileage engine_size mileage2  \\\n",
       "0   C Class  2020.0   30495    Automatic     NaN           2    1,200   \n",
       "\n",
       "  fuel_type engine_size2     reference  \n",
       "0    Diesel          NaN  /ad/25017331  "
      ]
     },
     "execution_count": 662,
     "metadata": {},
     "output_type": "execute_result"
    }
   ],
   "source": [
    "df.drop([\"fuel_type\"],axis=1,inplace=True)\n",
    "df.rename(columns={'fuel_type2':'fuel_type'},inplace=True)\n",
    "\n",
    "df.head(1)"
   ]
  },
  {
   "cell_type": "markdown",
   "metadata": {},
   "source": [
    "## Handling-missing-values-and-comma-format-in-columns:-mileage"
   ]
  },
  {
   "cell_type": "code",
   "execution_count": 663,
   "metadata": {},
   "outputs": [
    {
     "name": "stdout",
     "output_type": "stream",
     "text": [
      "(3907, 2)\n",
      "mileage: 3%\n",
      "mileage2: 0%\n"
     ]
    }
   ],
   "source": [
    "## checking percentage of missing data in millage\n",
    "\n",
    "check_cols_with_null(df[[\"mileage\",\"mileage2\"]])"
   ]
  },
  {
   "cell_type": "code",
   "execution_count": 664,
   "metadata": {},
   "outputs": [],
   "source": [
    "df.mileage.fillna(df.mileage2,inplace=True)\n",
    "df.mileage = df.mileage.str.replace(\",\",\"\")"
   ]
  },
  {
   "cell_type": "code",
   "execution_count": 665,
   "metadata": {},
   "outputs": [],
   "source": [
    "df.mileage = pd.to_numeric(df.mileage,errors='coerce')"
   ]
  },
  {
   "cell_type": "code",
   "execution_count": 666,
   "metadata": {},
   "outputs": [],
   "source": [
    "df.drop([\"mileage2\"],axis=1,inplace=True)"
   ]
  },
  {
   "cell_type": "markdown",
   "metadata": {},
   "source": [
    "## Handling-missing-values-and-different-value-standard-in-columns:-engine_size"
   ]
  },
  {
   "cell_type": "code",
   "execution_count": 667,
   "metadata": {},
   "outputs": [
    {
     "name": "stdout",
     "output_type": "stream",
     "text": [
      "(3907, 2)\n",
      "engine_size: 2%\n",
      "engine_size2: 3%\n"
     ]
    }
   ],
   "source": [
    "## checking percentage of missing data in millage\n",
    "\n",
    "check_cols_with_null(df[[\"engine_size\",\"engine_size2\"]])"
   ]
  },
  {
   "cell_type": "code",
   "execution_count": 668,
   "metadata": {},
   "outputs": [],
   "source": [
    "df.engine_size2.fillna(df.engine_size,inplace=True)"
   ]
  },
  {
   "cell_type": "code",
   "execution_count": 669,
   "metadata": {},
   "outputs": [],
   "source": [
    "df.engine_size2 = pd.to_numeric(df['engine_size2'],errors=\"coerce\")"
   ]
  },
  {
   "cell_type": "code",
   "execution_count": 670,
   "metadata": {},
   "outputs": [
    {
     "data": {
      "text/plain": [
       "count    3905.000000\n",
       "mean      249.148513\n",
       "std       706.052083\n",
       "min         0.000000\n",
       "25%         2.000000\n",
       "50%         2.000000\n",
       "75%         2.100000\n",
       "max      6208.000000\n",
       "Name: engine_size2, dtype: float64"
      ]
     },
     "execution_count": 670,
     "metadata": {},
     "output_type": "execute_result"
    }
   ],
   "source": [
    "df.engine_size2.describe()"
   ]
  },
  {
   "cell_type": "code",
   "execution_count": 671,
   "metadata": {},
   "outputs": [],
   "source": [
    "def convert_engine_size(engine_size):\n",
    "    if engine_size > 1000:\n",
    "        return round(engine_size/1000,1)\n",
    "    \n",
    "    return round(engine_size,1)\n",
    "\n",
    "\n",
    "df.engine_size2 = df.engine_size2.apply(lambda x:convert_engine_size(x))"
   ]
  },
  {
   "cell_type": "code",
   "execution_count": 672,
   "metadata": {},
   "outputs": [],
   "source": [
    "df.drop([\"engine_size\"],axis=1,inplace=True)\n",
    "\n",
    "df.rename(columns={'engine_size2':'engine_size'},inplace=True)"
   ]
  },
  {
   "cell_type": "code",
   "execution_count": 673,
   "metadata": {},
   "outputs": [
    {
     "data": {
      "text/html": [
       "<div>\n",
       "<style scoped>\n",
       "    .dataframe tbody tr th:only-of-type {\n",
       "        vertical-align: middle;\n",
       "    }\n",
       "\n",
       "    .dataframe tbody tr th {\n",
       "        vertical-align: top;\n",
       "    }\n",
       "\n",
       "    .dataframe thead th {\n",
       "        text-align: right;\n",
       "    }\n",
       "</style>\n",
       "<table border=\"1\" class=\"dataframe\">\n",
       "  <thead>\n",
       "    <tr style=\"text-align: right;\">\n",
       "      <th></th>\n",
       "      <th>model</th>\n",
       "      <th>year</th>\n",
       "      <th>price</th>\n",
       "      <th>transmission</th>\n",
       "      <th>mileage</th>\n",
       "      <th>fuel_type</th>\n",
       "      <th>engine_size</th>\n",
       "      <th>reference</th>\n",
       "    </tr>\n",
       "  </thead>\n",
       "  <tbody>\n",
       "    <tr>\n",
       "      <th>0</th>\n",
       "      <td>C Class</td>\n",
       "      <td>2020.0</td>\n",
       "      <td>30495</td>\n",
       "      <td>Automatic</td>\n",
       "      <td>1200.0</td>\n",
       "      <td>Diesel</td>\n",
       "      <td>2.0</td>\n",
       "      <td>/ad/25017331</td>\n",
       "    </tr>\n",
       "  </tbody>\n",
       "</table>\n",
       "</div>"
      ],
      "text/plain": [
       "      model    year   price transmission  mileage fuel_type  engine_size  \\\n",
       "0   C Class  2020.0   30495    Automatic   1200.0    Diesel          2.0   \n",
       "\n",
       "      reference  \n",
       "0  /ad/25017331  "
      ]
     },
     "execution_count": 673,
     "metadata": {},
     "output_type": "execute_result"
    }
   ],
   "source": [
    "df.head(1)"
   ]
  },
  {
   "cell_type": "markdown",
   "metadata": {},
   "source": [
    "## Handling-wrong-data-type:-year"
   ]
  },
  {
   "cell_type": "code",
   "execution_count": 674,
   "metadata": {},
   "outputs": [],
   "source": [
    "df.dropna(inplace=True)\n",
    "df.reset_index(inplace=True,drop=True)"
   ]
  },
  {
   "cell_type": "code",
   "execution_count": 675,
   "metadata": {},
   "outputs": [],
   "source": [
    "df.year = df.year.astype('int64') "
   ]
  },
  {
   "cell_type": "markdown",
   "metadata": {},
   "source": [
    "## Handling-unneeded-columns"
   ]
  },
  {
   "cell_type": "code",
   "execution_count": 676,
   "metadata": {},
   "outputs": [],
   "source": [
    "# Dropping the model and reference columns.\n",
    "\n",
    "df.drop([\"model\",\"reference\"],axis=1,inplace=True)"
   ]
  },
  {
   "cell_type": "markdown",
   "metadata": {},
   "source": [
    "## Handling-categorical-data"
   ]
  },
  {
   "cell_type": "code",
   "execution_count": 677,
   "metadata": {},
   "outputs": [],
   "source": [
    "df = df.join(pd.get_dummies(df[['transmission',\"fuel_type\"]],dtype=int))"
   ]
  },
  {
   "cell_type": "code",
   "execution_count": 679,
   "metadata": {},
   "outputs": [],
   "source": [
    "df.drop([\"transmission\",\"fuel_type\"],axis=1,inplace=True)"
   ]
  },
  {
   "cell_type": "code",
   "execution_count": 681,
   "metadata": {},
   "outputs": [
    {
     "name": "stdout",
     "output_type": "stream",
     "text": [
      "We have 3898 rows and 12 columns in the data set\n"
     ]
    }
   ],
   "source": [
    "get_data_description(df)"
   ]
  },
  {
   "cell_type": "code",
   "execution_count": 682,
   "metadata": {},
   "outputs": [
    {
     "data": {
      "text/html": [
       "<div>\n",
       "<style scoped>\n",
       "    .dataframe tbody tr th:only-of-type {\n",
       "        vertical-align: middle;\n",
       "    }\n",
       "\n",
       "    .dataframe tbody tr th {\n",
       "        vertical-align: top;\n",
       "    }\n",
       "\n",
       "    .dataframe thead th {\n",
       "        text-align: right;\n",
       "    }\n",
       "</style>\n",
       "<table border=\"1\" class=\"dataframe\">\n",
       "  <thead>\n",
       "    <tr style=\"text-align: right;\">\n",
       "      <th></th>\n",
       "      <th>year</th>\n",
       "      <th>price</th>\n",
       "      <th>mileage</th>\n",
       "      <th>engine_size</th>\n",
       "      <th>transmission_Automatic</th>\n",
       "      <th>transmission_Manual</th>\n",
       "      <th>transmission_Other</th>\n",
       "      <th>transmission_Semi-Auto</th>\n",
       "      <th>fuel_type_Diesel</th>\n",
       "      <th>fuel_type_Hybrid</th>\n",
       "      <th>fuel_type_Other</th>\n",
       "      <th>fuel_type_Petrol</th>\n",
       "    </tr>\n",
       "  </thead>\n",
       "  <tbody>\n",
       "    <tr>\n",
       "      <th>0</th>\n",
       "      <td>2020</td>\n",
       "      <td>30495</td>\n",
       "      <td>1200.0</td>\n",
       "      <td>2.0</td>\n",
       "      <td>1</td>\n",
       "      <td>0</td>\n",
       "      <td>0</td>\n",
       "      <td>0</td>\n",
       "      <td>1</td>\n",
       "      <td>0</td>\n",
       "      <td>0</td>\n",
       "      <td>0</td>\n",
       "    </tr>\n",
       "    <tr>\n",
       "      <th>1</th>\n",
       "      <td>2020</td>\n",
       "      <td>29989</td>\n",
       "      <td>1000.0</td>\n",
       "      <td>1.5</td>\n",
       "      <td>1</td>\n",
       "      <td>0</td>\n",
       "      <td>0</td>\n",
       "      <td>0</td>\n",
       "      <td>0</td>\n",
       "      <td>0</td>\n",
       "      <td>0</td>\n",
       "      <td>1</td>\n",
       "    </tr>\n",
       "    <tr>\n",
       "      <th>2</th>\n",
       "      <td>2020</td>\n",
       "      <td>37899</td>\n",
       "      <td>500.0</td>\n",
       "      <td>2.0</td>\n",
       "      <td>1</td>\n",
       "      <td>0</td>\n",
       "      <td>0</td>\n",
       "      <td>0</td>\n",
       "      <td>1</td>\n",
       "      <td>0</td>\n",
       "      <td>0</td>\n",
       "      <td>0</td>\n",
       "    </tr>\n",
       "    <tr>\n",
       "      <th>3</th>\n",
       "      <td>2019</td>\n",
       "      <td>30399</td>\n",
       "      <td>5000.0</td>\n",
       "      <td>2.0</td>\n",
       "      <td>1</td>\n",
       "      <td>0</td>\n",
       "      <td>0</td>\n",
       "      <td>0</td>\n",
       "      <td>1</td>\n",
       "      <td>0</td>\n",
       "      <td>0</td>\n",
       "      <td>0</td>\n",
       "    </tr>\n",
       "    <tr>\n",
       "      <th>4</th>\n",
       "      <td>2019</td>\n",
       "      <td>29899</td>\n",
       "      <td>4500.0</td>\n",
       "      <td>2.0</td>\n",
       "      <td>1</td>\n",
       "      <td>0</td>\n",
       "      <td>0</td>\n",
       "      <td>0</td>\n",
       "      <td>1</td>\n",
       "      <td>0</td>\n",
       "      <td>0</td>\n",
       "      <td>0</td>\n",
       "    </tr>\n",
       "  </tbody>\n",
       "</table>\n",
       "</div>"
      ],
      "text/plain": [
       "   year   price  mileage  engine_size  transmission_Automatic  \\\n",
       "0  2020   30495   1200.0          2.0                       1   \n",
       "1  2020   29989   1000.0          1.5                       1   \n",
       "2  2020   37899    500.0          2.0                       1   \n",
       "3  2019   30399   5000.0          2.0                       1   \n",
       "4  2019   29899   4500.0          2.0                       1   \n",
       "\n",
       "   transmission_Manual  transmission_Other  transmission_Semi-Auto  \\\n",
       "0                    0                   0                       0   \n",
       "1                    0                   0                       0   \n",
       "2                    0                   0                       0   \n",
       "3                    0                   0                       0   \n",
       "4                    0                   0                       0   \n",
       "\n",
       "   fuel_type_Diesel  fuel_type_Hybrid  fuel_type_Other  fuel_type_Petrol  \n",
       "0                 1                 0                0                 0  \n",
       "1                 0                 0                0                 1  \n",
       "2                 1                 0                0                 0  \n",
       "3                 1                 0                0                 0  \n",
       "4                 1                 0                0                 0  "
      ]
     },
     "execution_count": 682,
     "metadata": {},
     "output_type": "execute_result"
    }
   ],
   "source": [
    "df.head()"
   ]
  },
  {
   "cell_type": "markdown",
   "metadata": {},
   "source": [
    "## Saving-the-cleaned-data-into-csv"
   ]
  },
  {
   "cell_type": "code",
   "execution_count": 683,
   "metadata": {},
   "outputs": [],
   "source": [
    "df.to_csv(\"./data/cleaned_data.csv\")"
   ]
  }
 ],
 "metadata": {
  "kernelspec": {
   "display_name": "flight_delay-env",
   "language": "python",
   "name": "python3"
  },
  "language_info": {
   "codemirror_mode": {
    "name": "ipython",
    "version": 3
   },
   "file_extension": ".py",
   "mimetype": "text/x-python",
   "name": "python",
   "nbconvert_exporter": "python",
   "pygments_lexer": "ipython3",
   "version": "3.11.5"
  },
  "orig_nbformat": 4
 },
 "nbformat": 4,
 "nbformat_minor": 2
}
